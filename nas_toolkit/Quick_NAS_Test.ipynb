{
 "cells": [
  {
   "cell_type": "markdown",
   "id": "ef6470ca",
   "metadata": {},
   "source": [
    "# 🚀 Quick NAS Test - Jupyter Notebook Version\n",
    "\n",
    "## Fast Neural Architecture Search for NeWRF\n",
    "\n",
    "This is a simplified version for quick testing (3-5 minutes runtime).\n",
    "For the complete workflow, use `NAS_Complete_Workflow.ipynb`."
   ]
  },
  {
   "cell_type": "code",
   "execution_count": null,
   "id": "fb0cd66b",
   "metadata": {},
   "outputs": [],
   "source": [
    "# Quick setup and imports\n",
    "import sys\n",
    "import os\n",
    "\n",
    "# Add current directory to path\n",
    "sys.path.append(os.getcwd())\n",
    "\n",
    "# Import the NAS toolkit\n",
    "from optuna_nas import run_two_stage_nas, OptimizedMLP\n",
    "import torch\n",
    "import numpy as np\n",
    "import matplotlib.pyplot as plt\n",
    "\n",
    "print(\"✅ NAS Toolkit imported successfully!\")\n",
    "print(f\"🚀 Using device: {'CUDA' if torch.cuda.is_available() else 'CPU'}\")"
   ]
  },
  {
   "cell_type": "code",
   "execution_count": null,
   "id": "ff57c574",
   "metadata": {},
   "outputs": [],
   "source": [
    "# Configure for quick test\n",
    "print(\"🏃‍♂️ Running Quick NAS Test\")\n",
    "print(\"📊 Configuration: 3 architecture + 5 hyperparameter trials\")\n",
    "print(\"⏱️ Expected runtime: 3-5 minutes\")\n",
    "print(\"\\n🚀 Starting NAS...\")\n",
    "\n",
    "# Run quick NAS\n",
    "results = run_two_stage_nas(\n",
    "    architecture_trials=3,\n",
    "    hyperparameter_trials=5,\n",
    "    visualization=True,\n",
    "    save_results=True\n",
    ")\n",
    "\n",
    "print(\"\\n🎉 Quick NAS Test Complete!\")"
   ]
  },
  {
   "cell_type": "code",
   "execution_count": null,
   "id": "464f5e41",
   "metadata": {},
   "outputs": [],
   "source": [
    "# Display results\n",
    "if results:\n",
    "    print(\"\\n📊 === RESULTS SUMMARY ===\")\n",
    "    print(f\"🏆 Best Loss: {results.get('final_loss', 'N/A'):.8f}\")\n",
    "    print(f\"⏱️ Total Time: {results.get('total_time', 0):.1f} seconds\")\n",
    "    print(f\"📈 Improvement: {results.get('improvement', 0):.2f}%\")\n",
    "    \n",
    "    print(\"\\n🏗️ Best Architecture:\")\n",
    "    arch_params = results.get('best_architecture', {})\n",
    "    for key, value in arch_params.items():\n",
    "        print(f\"  {key}: {value}\")\n",
    "    \n",
    "    print(\"\\n⚙️ Best Hyperparameters:\")\n",
    "    hp_params = results.get('best_hyperparameters', {})\n",
    "    for key, value in hp_params.items():\n",
    "        print(f\"  {key}: {value}\")\n",
    "else:\n",
    "    print(\"❌ No results available. Please run the NAS cell above.\")"
   ]
  },
  {
   "cell_type": "code",
   "execution_count": null,
   "id": "05885d82",
   "metadata": {},
   "outputs": [],
   "source": [
    "# Optional: Test the final model\n",
    "if results and 'best_architecture' in results:\n",
    "    print(\"\\n🧪 Testing Final Model...\")\n",
    "    \n",
    "    # Create test data\n",
    "    test_X = torch.randn(100, 64)\n",
    "    \n",
    "    # Create model with best parameters\n",
    "    model = OptimizedMLP(\n",
    "        input_dim=64,\n",
    "        output_dim=2,\n",
    "        **results['best_architecture']\n",
    "    )\n",
    "    \n",
    "    # Test forward pass\n",
    "    model.eval()\n",
    "    with torch.no_grad():\n",
    "        output = model(test_X)\n",
    "    \n",
    "    print(f\"✅ Model test successful!\")\n",
    "    print(f\"📊 Input shape: {test_X.shape}\")\n",
    "    print(f\"📊 Output shape: {output.shape}\")\n",
    "    print(f\"📊 Output range: [{output.min():.4f}, {output.max():.4f}]\")\n",
    "    \n",
    "    # Count parameters\n",
    "    total_params = sum(p.numel() for p in model.parameters())\n",
    "    print(f\"🔧 Total parameters: {total_params:,}\")\n",
    "else:\n",
    "    print(\"⚠️ Skipping model test - no results available\")"
   ]
  },
  {
   "cell_type": "markdown",
   "id": "181f2b82",
   "metadata": {},
   "source": [
    "## 💡 Next Steps\n",
    "\n",
    "✅ **Quick test completed!** \n",
    "\n",
    "For more comprehensive NAS:\n",
    "1. Open `NAS_Complete_Workflow.ipynb` for full workflow\n",
    "2. Or run `python visualization_test.py` in terminal\n",
    "3. Or use `python run_nas.py` for interactive menu\n",
    "\n",
    "### 📁 Files generated:\n",
    "- Results saved in `nas_results/` folder\n",
    "- Best model saved as `.pth` file\n",
    "- Configuration and metrics in JSON format\n",
    "\n",
    "### 🛠️ Customization:\n",
    "Change the trial numbers in cell 2:\n",
    "```python\n",
    "results = run_two_stage_nas(\n",
    "    architecture_trials=10,      # Increase for better architecture search\n",
    "    hyperparameter_trials=15,    # Increase for better hyperparameter optimization\n",
    "    visualization=True,\n",
    "    save_results=True\n",
    ")\n",
    "```"
   ]
  }
 ],
 "metadata": {
  "language_info": {
   "name": "python"
  }
 },
 "nbformat": 4,
 "nbformat_minor": 5
}
